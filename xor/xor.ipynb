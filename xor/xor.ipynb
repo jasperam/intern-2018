{
 "cells": [
  {
   "cell_type": "markdown",
   "metadata": {},
   "source": [
    " XOR Problem Training on Tensorflow\n",
    " =================================="
   ]
  },
  {
   "cell_type": "markdown",
   "metadata": {},
   "source": [
    "Using one hidden layer with width equals to 3, and a `relu` activate function in the \n",
    "hidden layer and `sigmoid` activate function in output layer.The loss function is defined \n",
    "as `sigmoid cross entropy with logits`. And the optimizer is `gradient descent`. Also \n",
    "different activate functions are compared with the final prediction outputs and loss \n",
    "function values.\n",
    "The details of the codes are shown below:\n",
    "\n",
    "--------------------------------------------"
   ]
  },
  {
   "cell_type": "markdown",
   "metadata": {},
   "source": [
    "First of all, since the example is so simple and we can just type in the functional parameter that I'm sure that will lead to the exactly right anwser."
   ]
  },
  {
   "cell_type": "markdown",
   "metadata": {},
   "source": [
    "## Step 1: import packages"
   ]
  },
  {
   "cell_type": "code",
   "execution_count": 1,
   "metadata": {},
   "outputs": [],
   "source": [
    "#!/usr/bin/python\n",
    "# coding:utf-8\n",
    "%matplotlib inline\n",
    "import tensorflow as tf\n",
    "import numpy as np\n",
    "import matplotlib.pyplot as plt"
   ]
  },
  {
   "cell_type": "markdown",
   "metadata": {},
   "source": [
    "## Step 1: Naive neuro model by setting no parameter variables\n",
    "`placeholder` is used to annouce data without telling the specific values. Since only four kind of combinations of two bool values. Denote X=[[0, 0], [0, 1], [1, 0], [1, 1]], so X's shape is (4, 2). While for each combination of X, Y has to be labeled 1 or 0. So Y's shape is (4, 1)."
   ]
  },
  {
   "cell_type": "code",
   "execution_count": 2,
   "metadata": {},
   "outputs": [],
   "source": [
    "data = tf.placeholder(tf.float32, shape=(4, 2))\n",
    "label = tf.placeholder(tf.float32, shape=(4, 1))"
   ]
  },
  {
   "cell_type": "markdown",
   "metadata": {},
   "source": [
    "The input of layer1 is `x1` and `x2`, define two nodes $h_1(x_1,x_2)$ and $h_2(x_1,x_2)$ where $h_1(x_1,x_2)=relu(x_1+x_2-0.5)$ and $h_2(x_1,x_2)=relu(-x_1-x_2+1.5)$. scope1 is the corresponding operation. Then expecting that $h_1(x_1,x_2)+h_2(x_1,x_2)$ has only two kinds of output: $h_1(0,0)+h_2(0,0)=1.5$， $h_1(1,0)+h_2(1,0)=1$， $h_1(0,1)+h_2(0,1)=1$，$h_1(1,1)+h_2(1,1)=1.5$. But $h_1$ and $h_2$ are also inputs of the final layer: output layer. We expect to map $h_1$, $h_2$ to $\\hat{y}$ by letting  $h_1(x_1,x_2)+h_2(x_1,x_2)=1.5 \\to \\hat{y}=0$ and $h_1(x_1,x_2)+h_2(x_1,x_2)=1 \\to\\hat{y}=1$."
   ]
  },
  {
   "cell_type": "code",
   "execution_count": 65,
   "metadata": {},
   "outputs": [
    {
     "name": "stdout",
     "output_type": "stream",
     "text": [
      "XOR problem:  mse=0.0, y prediction: \n",
      "[[ 0.]\n",
      " [ 1.]\n",
      " [ 1.]\n",
      " [ 0.]]\n"
     ]
    }
   ],
   "source": [
    "import step_activate\n",
    "from imp import reload\n",
    "reload(step_activate)\n",
    "with tf.variable_scope('hidden_layer') as scope1:\n",
    "    weight = tf.constant(np.array([[1.,-1.], [1., -1.]]), name=\"weight\", shape=(2, 2), dtype=tf.float32)\n",
    "    bias = tf.constant(np.array([-0.5, 1.5]), name=\"bias\", shape=(2, ), dtype=tf.float32)\n",
    "    # use self-define function: step activate function\n",
    "    x1 = step_activate.step_tf(tf.matmul(data, weight)+bias)\n",
    "\n",
    "with tf.variable_scope('output') as scope2:\n",
    "    weight = tf.constant(np.array([[1.0], [1.0]]), name=\"weight\", shape=(2, 1), dtype=tf.float32)\n",
    "    bias = tf.constant(np.array([-1.5]), name=\"bias\", shape=(1, ), dtype=tf.float32)\n",
    "    preds = step_activate.step_tf(tf.matmul(x1, weight) + bias)\n",
    "\n",
    "loss = tf.reduce_mean(tf.square(preds-label), name=\"mse\")\n",
    "\n",
    "train_data = np.array([[0, 0], [0, 1], [1, 0], [1, 1]])\n",
    "train_label = np.array([[0], [1], [1], [0]])\n",
    "with tf.Session() as sess:\n",
    "    y, l, = sess.run([preds, loss], feed_dict={data: train_data, label: train_label})\n",
    "    print(\"XOR problem:  mse={}, y prediction: \\n{}\".format(l, y))"
   ]
  },
  {
   "cell_type": "markdown",
   "metadata": {},
   "source": [
    "## Step 2: optimizing only bias parameters\n",
    "Now let the neuro network does more job by asking it to estimate bias parameter."
   ]
  },
  {
   "cell_type": "code",
   "execution_count": 8,
   "metadata": {},
   "outputs": [
    {
     "name": "stdout",
     "output_type": "stream",
     "text": [
      "XOR problem: epoch:100 mse=0.0018950554076582193, y prediction: \n",
      "[[ 0.08006134]\n",
      " [ 0.97589833]\n",
      " [ 0.97589833]\n",
      " [ 0.00293639]]\n",
      "XOR problem: epoch:200 mse=2.3412205337081105e-05, y prediction: \n",
      "[[  8.89877975e-03]\n",
      " [  9.97321010e-01]\n",
      " [  9.97321010e-01]\n",
      " [  3.26439738e-04]]\n",
      "XOR problem: epoch:300 mse=2.8924714001732355e-07, y prediction: \n",
      "[[  9.89101594e-04]\n",
      " [  9.99702215e-01]\n",
      " [  9.99702215e-01]\n",
      " [  3.62617429e-05]]\n"
     ]
    }
   ],
   "source": [
    "tf.reset_default_graph()\n",
    "data = tf.placeholder(tf.float32, shape=(4, 2))\n",
    "label = tf.placeholder(tf.float32, shape=(4, 1))\n",
    "with tf.variable_scope('hidden_layer') as scope1:\n",
    "    weight = tf.constant(np.array([[1.,1.], [1., 1.]]), name=\"weight\", shape=(2, 2), dtype=tf.float32)\n",
    "    bias1 = tf.get_variable(name=\"bias1\", shape=(2, ), dtype=tf.float32)\n",
    "    x = tf.nn.relu(tf.matmul(data, weight)+bias1)\n",
    "\n",
    "with tf.variable_scope('output') as scope2:\n",
    "    weight = tf.constant(np.array([[1.], [-2.]]), name=\"weight\", shape=(2, 1), dtype=tf.float32)\n",
    "    bias2 = tf.get_variable(name=\"bias2\", shape=(1, ), dtype=tf.float32)\n",
    "    preds = tf.matmul(x, weight) + bias2\n",
    "\n",
    "loss = tf.reduce_mean(tf.square(preds-label), name=\"mse\")\n",
    "train_data = np.array([[0, 0], [0, 1], [1, 0], [1, 1]])\n",
    "train_label = np.array([[0], [1], [1], [0]])\n",
    "learning_rate = tf.placeholder(tf.float32)\n",
    "optimizer = tf.train.GradientDescentOptimizer(learning_rate).minimize(loss)\n",
    "init = tf.global_variables_initializer()\n",
    "n_epochs = 300\n",
    "with tf.Session() as sess:\n",
    "    sess.run(init)\n",
    "    for epoch in range(1, n_epochs+1):\n",
    "        b, _, y, l, = sess.run([bias1,optimizer, preds, loss], \n",
    "                            feed_dict={data: train_data, label: train_label, learning_rate: 0.1})\n",
    "        if not epoch % 100:\n",
    "            print(\"XOR problem: epoch:{} mse={}, y prediction: \\n{}\".format(epoch, l, y))\n",
    "    "
   ]
  },
  {
   "cell_type": "markdown",
   "metadata": {},
   "source": [
    "## Step 3: define naive neuro net layers\n",
    "Only two-layer network can solve the nonlinear problem. At first let the hidden layer contain only two nodes and adding bias to see the performance. Also, activate function mapping a discrete number into continuous number should be used. `sigmoid` is a first choice here."
   ]
  },
  {
   "cell_type": "markdown",
   "metadata": {},
   "source": [
    "* optimizer: gradient descent\n",
    "* loss function: sigmoid cross entropy with logits\n",
    "* learning rate: only define a placeholder here\n",
    "* predicts: another sigmoid transformation from the output layer input $Wx^T+b$"
   ]
  },
  {
   "cell_type": "code",
   "execution_count": 18,
   "metadata": {},
   "outputs": [],
   "source": [
    "tf.reset_default_graph()\n",
    "data = tf.placeholder(tf.float32, shape=(4, 2))\n",
    "label = tf.placeholder(tf.float32, shape=(4, 1))\n",
    "with tf.variable_scope('layer1') as scope1:\n",
    "    weight11 = tf.get_variable(name=\"weight11\", shape=(2, 2))\n",
    "    bias11 = tf.get_variable(name=\"bias11\", shape=(2, ))  # use 3 nodes in hidden layer\n",
    "    x = tf.nn.sigmoid(tf.matmul(data, weight11) + bias11)  \n",
    "\n",
    "with tf.variable_scope('layer2') as scope2:\n",
    "    weight12 = tf.get_variable(name=\"weight12\", shape=(2, 1))\n",
    "    bias12 = tf.get_variable(name=\"bias12\", shape=(1,))\n",
    "    x = tf.matmul(x, weight12) + bias12\n",
    "loss_val = []\n",
    "preds = tf.nn.sigmoid(x)\n",
    "loss = tf.reduce_mean(tf.nn.sigmoid_cross_entropy_with_logits(labels=label, logits=x))\n",
    "learning_rate = tf.placeholder(tf.float32)\n",
    "optimizer = tf.train.GradientDescentOptimizer(learning_rate).minimize(loss)"
   ]
  },
  {
   "cell_type": "markdown",
   "metadata": {},
   "source": [
    "$\\bigoplus$ will tell how to give X and coresponding true Y label. But here just use tensorflow to randomly initialize all parameters including $W^{(1)}$ and $W^{(2)}$ in the two layers. Since sigmoid will be saturated when $Wx^T+b$ has a very large absolute value, the gradient of the loss function is very small no matter the sign of $z=Wx^T+b$ is correct. So the learning rate to control the speed or the step length should be decrease along with the decaying of the gradient. Choose number of step to be 10000. And see the optimizing process"
   ]
  },
  {
   "cell_type": "code",
   "execution_count": 19,
   "metadata": {},
   "outputs": [
    {
     "name": "stdout",
     "output_type": "stream",
     "text": [
      "Step:0 -> Loss:0.9314783811569214 -> Predictions\n",
      "[[ 0.20480683]\n",
      " [ 0.28131545]\n",
      " [ 0.13280351]\n",
      " [ 0.18907511]]\n",
      "Step:2000 -> Loss:0.00541166216135025 -> Predictions\n",
      "[[ 0.00635361]\n",
      " [ 0.99515462]\n",
      " [ 0.99513137]\n",
      " [ 0.00551978]]\n",
      "Step:4000 -> Loss:0.0033049106132239103 -> Predictions\n",
      "[[ 0.00387961]\n",
      " [ 0.99703896]\n",
      " [ 0.99703145]\n",
      " [ 0.00338829]]\n",
      "Step:6000 -> Loss:0.003085490083321929 -> Predictions\n",
      "[[ 0.00362177]\n",
      " [ 0.99723536]\n",
      " [ 0.99722916]\n",
      " [ 0.00316534]]\n",
      "Step:8000 -> Loss:0.0030637411400675774 -> Predictions\n",
      "[[ 0.00359652]\n",
      " [ 0.99725538]\n",
      " [ 0.99724871]\n",
      " [ 0.0031435 ]]\n",
      "Step:10000 -> Loss:0.0030432778876274824 -> Predictions\n",
      "[[ 0.00357299]\n",
      " [ 0.99727541]\n",
      " [ 0.99726641]\n",
      " [ 0.00312318]]\n"
     ]
    }
   ],
   "source": [
    "train_data = np.array([[0, 0], [0, 1], [1, 0], [1, 1]])\n",
    "train_label = np.array([[0], [1], [1], [0]])\n",
    "loss_val = []\n",
    "\n",
    "with tf.Session() as session1:\n",
    "    session1.run(tf.global_variables_initializer())\n",
    "    for step in range(10001):\n",
    "        if step < 3000:\n",
    "            lr = 1\n",
    "        elif step < 6000:\n",
    "            lr = 0.1\n",
    "        else:\n",
    "            lr = 0.01\n",
    "        _, l, pred = session1.run([optimizer, loss, preds],\n",
    "                                 feed_dict={data: train_data,\n",
    "                                            label: train_label,\n",
    "                                            learning_rate: lr})\n",
    "        loss_val.append([step, l])\n",
    "        if not step % 2000:\n",
    "            print('Step:{} -> Loss:{} -> Predictions\\n{}'.format(step, l, pred))"
   ]
  },
  {
   "cell_type": "markdown",
   "metadata": {},
   "source": [
    "Finally see the loss function changes along with steps:"
   ]
  },
  {
   "cell_type": "code",
   "execution_count": 14,
   "metadata": {},
   "outputs": [
    {
     "data": {
      "text/plain": [
       "[<matplotlib.lines.Line2D at 0x2438ecae1d0>]"
      ]
     },
     "execution_count": 14,
     "metadata": {},
     "output_type": "execute_result"
    },
    {
     "data": {
      "image/png": "[encoded data removed]",
      "text/plain": [
       "<Figure size 432x288 with 1 Axes>"
      ]
     },
     "metadata": {
      "needs_background": "light"
     },
     "output_type": "display_data"
    }
   ],
   "source": [
    "    loss_val = list(zip(*loss_val))\n",
    "    ii = range(0,10001,1000)\n",
    "    plt.plot(np.array(loss_val[0])[ii], np.array(loss_val[1])[ii], \"-.b\", label=\"loss\")"
   ]
  },
  {
   "cell_type": "markdown",
   "metadata": {},
   "source": [
    "## Step 4: change activate function and repeat\n",
    "Now use `relu` as the active function and observe its performance"
   ]
  },
  {
   "cell_type": "code",
   "execution_count": 20,
   "metadata": {},
   "outputs": [
    {
     "name": "stdout",
     "output_type": "stream",
     "text": [
      "Step:0 -> Loss:0.821989893913269 -> Predictions[[ 0.24730694]\n",
      " [ 0.24263833]\n",
      " [ 0.28324318]\n",
      " [ 0.27836007]]\n",
      "Step:2000 -> Loss:0.006513749714940786 -> Predictions[[ 0.00634192]\n",
      " [ 0.99409962]\n",
      " [ 0.99159497]\n",
      " [ 0.00532025]]\n",
      "Step:4000 -> Loss:0.003688391298055649 -> Predictions[[ 0.00356902]\n",
      " [ 0.99669087]\n",
      " [ 0.99518013]\n",
      " [ 0.00302743]]\n",
      "Step:6000 -> Loss:0.003417524043470621 -> Predictions[[ 0.00330447]\n",
      " [ 0.99693656]\n",
      " [ 0.99552876]\n",
      " [ 0.00280674]]\n",
      "Step:8000 -> Loss:0.003393164137378335 -> Predictions[[ 0.00328056]\n",
      " [ 0.99695909]\n",
      " [ 0.99555993]\n",
      " [ 0.00278734]]\n",
      "Step:10000 -> Loss:0.003369160695001483 -> Predictions[[ 0.00325707]\n",
      " [ 0.9969818 ]\n",
      " [ 0.99558973]\n",
      " [ 0.00276765]]\n"
     ]
    },
    {
     "data": {
      "image/png": "[encoded data removed]",
      "text/plain": [
       "<Figure size 432x288 with 1 Axes>"
      ]
     },
     "metadata": {
      "needs_background": "light"
     },
     "output_type": "display_data"
    }
   ],
   "source": [
    "with tf.variable_scope('layer1', reuse=True) as scope1:\n",
    "    weight11 = tf.get_variable(name=\"weight11\", shape=(2, 2))\n",
    "    bias11 = tf.get_variable(name=\"bias11\", shape=(2, ))\n",
    "    x = tf.nn.relu(tf.matmul(data, weight11) + bias11)  #  use relu\n",
    "\n",
    "with tf.variable_scope('layer2', reuse=True) as scope2:\n",
    "    weight12 = tf.get_variable(name=\"weight12\", shape=(2, 1))\n",
    "    bias12 = tf.get_variable(name=\"bias12\", shape=(1,))\n",
    "    x = tf.matmul(x, weight12) + bias12\n",
    "loss_val = []\n",
    "\n",
    "with tf.Session() as session2:\n",
    "    session2.run(tf.global_variables_initializer())\n",
    "    for step in range(10001):\n",
    "        if step < 3000:\n",
    "            lr = 1\n",
    "        elif step < 6000:\n",
    "            lr = 0.1\n",
    "        else:\n",
    "            lr = 0.01\n",
    "        _, l, pred = session2.run([optimizer, loss, preds],\n",
    "                                 feed_dict={data: train_data,\n",
    "                                            label: train_label,\n",
    "                                            learning_rate: lr})\n",
    "        loss_val.append([step, l])\n",
    "        if not step % 2000:\n",
    "            print('Step:{} -> Loss:{} -> Predictions{}'.format(step, l, pred))\n",
    "    loss_val = list(zip(*loss_val))\n",
    "    ii = range(0,10001,1000)\n",
    "    plt.plot(np.array(loss_val[0])[ii], np.array(loss_val[1])[ii], \"-.b\", label=\"loss\")"
   ]
  },
  {
   "cell_type": "markdown",
   "metadata": {},
   "source": [
    "The output seems equally close to the true value of Y."
   ]
  },
  {
   "cell_type": "markdown",
   "metadata": {},
   "source": [
    "## Step 5: extend the width of hidden layer to 3\n",
    "Use activate function of `relu` and 3 nodes hidden layer."
   ]
  },
  {
   "cell_type": "code",
   "execution_count": 22,
   "metadata": {},
   "outputs": [
    {
     "name": "stdout",
     "output_type": "stream",
     "text": [
      "Step:0 -> Loss:0.7482359409332275 -> Predictions[[ 0.64368737]\n",
      " [ 0.646505  ]\n",
      " [ 0.68703496]\n",
      " [ 0.68318993]]\n",
      "Step:2000 -> Loss:0.0008017843356356025 -> Predictions[[  2.63538648e-04]\n",
      " [  9.98661280e-01]\n",
      " [  9.98661280e-01]\n",
      " [  2.64264818e-04]]\n",
      "Step:4000 -> Loss:0.0004978745710104704 -> Predictions[[  1.56425609e-04]\n",
      " [  9.99160647e-01]\n",
      " [  9.99160647e-01]\n",
      " [  1.55671514e-04]]\n",
      "Step:6000 -> Loss:0.00046558293979614973 -> Predictions[[  1.45365906e-04]\n",
      " [  9.99214292e-01]\n",
      " [  9.99214292e-01]\n",
      " [  1.44974721e-04]]\n",
      "Step:8000 -> Loss:0.00046251341700553894 -> Predictions[[  1.44536752e-04]\n",
      " [  9.99219537e-01]\n",
      " [  9.99219537e-01]\n",
      " [  1.43999292e-04]]\n",
      "Step:10000 -> Loss:0.00045950344065204263 -> Predictions[[  1.43701647e-04]\n",
      " [  9.99224782e-01]\n",
      " [  9.99224782e-01]\n",
      " [  1.43179976e-04]]\n"
     ]
    },
    {
     "data": {
      "image/png": "[encoded data removed]",
      "text/plain": [
       "<Figure size 432x288 with 1 Axes>"
      ]
     },
     "metadata": {
      "needs_background": "light"
     },
     "output_type": "display_data"
    }
   ],
   "source": [
    "tf.reset_default_graph()\n",
    "data = tf.placeholder(tf.float32, shape=(4, 2))\n",
    "label = tf.placeholder(tf.float32, shape=(4, 1))\n",
    "with tf.variable_scope('layer1') as scope1:\n",
    "    weight11 = tf.get_variable(name=\"weight11\", shape=(2, 3))\n",
    "    bias11 = tf.get_variable(name=\"bias11\", shape=(3, ))  # use 3 nodes in hidden layer\n",
    "    x = tf.nn.relu(tf.matmul(data, weight11) + bias11)  \n",
    "\n",
    "with tf.variable_scope('layer2') as scope2:\n",
    "    weight12 = tf.get_variable(name=\"weight12\", shape=(3, 1))\n",
    "    bias12 = tf.get_variable(name=\"bias12\", shape=(1,))\n",
    "    x = tf.matmul(x, weight12) + bias12\n",
    "loss_val = []\n",
    "preds = tf.nn.sigmoid(x)\n",
    "loss = tf.reduce_mean(tf.nn.sigmoid_cross_entropy_with_logits(labels=label, logits=x))\n",
    "learning_rate = tf.placeholder(tf.float32)\n",
    "optimizer = tf.train.GradientDescentOptimizer(learning_rate).minimize(loss)\n",
    "with tf.Session() as session3:\n",
    "    session3.run(tf.global_variables_initializer())\n",
    "    for step in range(10001):\n",
    "        if step < 3000:\n",
    "            lr = 1\n",
    "        elif step < 6000:\n",
    "            lr = 0.1\n",
    "        else:\n",
    "            lr = 0.01\n",
    "        _, l, pred = session3.run([optimizer, loss, preds],\n",
    "                                 feed_dict={data: train_data,\n",
    "                                            label: train_label,\n",
    "                                            learning_rate: lr})\n",
    "        loss_val.append([step, l])\n",
    "        if not step % 2000:\n",
    "            print('Step:{} -> Loss:{} -> Predictions{}'.format(step, l, pred))\n",
    "    loss_val = list(zip(*loss_val))\n",
    "    ii = range(0,10001,1000)\n",
    "    plt.plot(np.array(loss_val[0])[ii], np.array(loss_val[1])[ii], \"-.b\", label=\"loss\")"
   ]
  },
  {
   "cell_type": "markdown",
   "metadata": {},
   "source": [
    "A little bit confusing, `relu` outperform `sigmoid` much better when the nodes of network is extended. If one step further, use sigmoid with 3 nodes in hidden layer. The improvement of extension of hidden layer is not that obvious when using `sigmoid` as activate function compared with `relu`."
   ]
  },
  {
   "cell_type": "code",
   "execution_count": 23,
   "metadata": {},
   "outputs": [
    {
     "name": "stdout",
     "output_type": "stream",
     "text": [
      "Step:0 -> Loss:0.8468743562698364 -> Predictions[[ 0.20995614]\n",
      " [ 0.24413195]\n",
      " [ 0.23969758]\n",
      " [ 0.26904753]]\n",
      "Step:2000 -> Loss:0.005303585901856422 -> Predictions[[ 0.00449281]\n",
      " [ 0.99487138]\n",
      " [ 0.99487793]\n",
      " [ 0.00641371]]\n",
      "Step:4000 -> Loss:0.002953543094918132 -> Predictions[[ 0.00246389]\n",
      " [ 0.99713433]\n",
      " [ 0.99713731]\n",
      " [ 0.00360414]]\n",
      "Step:6000 -> Loss:0.00272925803437829 -> Predictions[[ 0.00227235]\n",
      " [ 0.99735117]\n",
      " [ 0.99735379]\n",
      " [ 0.00333444]]\n",
      "Step:8000 -> Loss:0.002708854852244258 -> Predictions[[ 0.00225421]\n",
      " [ 0.99737215]\n",
      " [ 0.99737489]\n",
      " [ 0.00331329]]\n",
      "Step:10000 -> Loss:0.0026886113919317722 -> Predictions[[ 0.00223638]\n",
      " [ 0.99739313]\n",
      " [ 0.99739575]\n",
      " [ 0.00329227]]\n"
     ]
    },
    {
     "data": {
      "image/png": "[encoded data removed]",
      "text/plain": [
       "<Figure size 432x288 with 1 Axes>"
      ]
     },
     "metadata": {
      "needs_background": "light"
     },
     "output_type": "display_data"
    }
   ],
   "source": [
    "with tf.variable_scope('layer1', reuse=True) as scope1:\n",
    "    weight11 = tf.get_variable(name=\"weight11\", shape=(2, 3))\n",
    "    bias11 = tf.get_variable(name=\"bias11\", shape=(3, ))  # use 3 nodes in hidden layer\n",
    "    x = tf.nn.sigmoid(tf.matmul(data, weight11) + bias11)  \n",
    "\n",
    "with tf.variable_scope('layer2', reuse=True) as scope2:\n",
    "    weight12 = tf.get_variable(name=\"weight12\", shape=(3, 1))\n",
    "    bias12 = tf.get_variable(name=\"bias12\", shape=(1,))\n",
    "    x = tf.matmul(x, weight12) + bias12\n",
    "loss_val = []\n",
    "preds = tf.nn.sigmoid(x)\n",
    "loss = tf.reduce_mean(tf.nn.sigmoid_cross_entropy_with_logits(labels=label, logits=x))\n",
    "learning_rate = tf.placeholder(tf.float32)\n",
    "optimizer = tf.train.GradientDescentOptimizer(learning_rate).minimize(loss)\n",
    "with tf.Session() as session3:\n",
    "    session3.run(tf.global_variables_initializer())\n",
    "    for step in range(10001):\n",
    "        if step < 3000:\n",
    "            lr = 1\n",
    "        elif step < 6000:\n",
    "            lr = 0.1\n",
    "        else:\n",
    "            lr = 0.01\n",
    "        _, l, pred = session3.run([optimizer, loss, preds],\n",
    "                                 feed_dict={data: train_data,\n",
    "                                            label: train_label,\n",
    "                                            learning_rate: lr})\n",
    "        loss_val.append([step, l])\n",
    "        if not step % 2000:\n",
    "            print('Step:{} -> Loss:{} -> Predictions{}'.format(step, l, pred))\n",
    "    loss_val = list(zip(*loss_val))\n",
    "    ii = range(0,10001,1000)\n",
    "    plt.plot(np.array(loss_val[0])[ii], np.array(loss_val[1])[ii], \"-.b\", label=\"loss\")"
   ]
  }
 ],
 "metadata": {
  "kernelspec": {
   "display_name": "Python 3-tensorflow",
   "language": "python",
   "name": "tensorflow"
  },
  "language_info": {
   "codemirror_mode": {
    "name": "ipython",
    "version": 3
   },
   "file_extension": ".py",
   "mimetype": "text/x-python",
   "name": "python",
   "nbconvert_exporter": "python",
   "pygments_lexer": "ipython3",
   "version": "3.6.7"
  }
 },
 "nbformat": 4,
 "nbformat_minor": 2
}
