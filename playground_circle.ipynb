{
 "cells": [
  {
   "cell_type": "markdown",
   "metadata": {},
   "source": [
    "# Playground datasets train on local computer (I)\n",
    "&emsp;&emsp;基于`playground`的4种样例数据集，尝试在本机训练DNN模型进行二分类问题。由于4个分类问题对于模型规模和具体参数选择略有不同，将以下4个问题分别进行探讨：\n",
    "+ <b>circle data</b>\n",
    "+ gauss data\n",
    "+ xor data\n",
    "+ spiral data\n",
    "<img src=\"img/dataset_subplots.png\" height=\"50%\" width=\"50%\">\n",
    "\n",
    "&emsp;&emsp;本文档针对第一个数据集。在模型训练过程中，在尽量保持与`playground`结果可比的基础上，进行一定灵活的优化（尤其是对激活函数和学习率的不同尝试）。通过`playground`源码可推断其使用的代价函数(loss function $J(\\theta)$，如下图)形式为均方误差函数MSE(mean square error)，并且其输出单元的激活函数与隐藏层定义的激活函数类型相同。\n",
    "<img src=\"img/playground_src_loss.jpg\" height=\"50%\" width=\"50%\">\n",
    "\n",
    "<!-- TOC START min:1 max:6 link:true update:false -->\n",
    "- [1.数据预处理](#1数据预处理)\n",
    "- [2.定义计算图](#2定义计算图)\n",
    "- [3.执行计算和评估](#3执行计算和评估)\n",
    "- [4.测试集上的表现](#4测试集上的表现)\n",
    "- [5.添加正则化项](#5添加正则化项)\n",
    "<!-- TOC END -->"
   ]
  },
  {
   "cell_type": "markdown",
   "metadata": {},
   "source": [
    "## 1.数据预处理\n",
    "&emsp;&emsp;由数据生成模块`dataset.py`得到的数据标签为1和-1，考虑到在损失函数中我们可能使用交叉熵(cross-entropy)的形式，即输出$\\hat{y}$(output或prediction)实际是分类的概率，应当有$\\hat{y} \\in [0, 1]$，故将标签正则化为1和0。在`dataset.py`文件中新定义`get_samples`函数获取指定生成类型和样本量的样本及标签。\n",
    "```python\n",
    "def get_samples(data_type, size, noise):\n",
    "    raw_data = data_type(size, noise)\n",
    "    x1 = [r[\"x\"] for r in raw_data]\n",
    "    x2 = [r[\"y\"] for r in raw_data]\n",
    "    lab = [r[\"label\"] for r in raw_data]\n",
    "    data = np.array(list(zip(x1, x2)))\n",
    "    label = np.clip(np.array(lab), 0.0, 1.0)\n",
    "    return data, label\n",
    "```"
   ]
  },
  {
   "cell_type": "markdown",
   "metadata": {},
   "source": [
    "## 2.定义计算图\n",
    "&emsp;&emsp;通过先在`playground`上进行试验，仅采用$x_1, \\ x_2$两个features也能在小规模模型中获得较快的收敛速度。在优化过程中，使用批量优化(batch optimization，参见_Deep Learning_ 8.1.3节)训练模型非常困难（收敛慢）；转而采用小批量优化方法(mini batch)。定义该模型计算图要素如下：\n",
    "+ training size: 500\n",
    "+ noise rate: 0.1(10 in `playground`)\n",
    "+ hidden layers: 2\n",
    "+ nodes in each layer: 4\n",
    "+ activation func: ReLu\n",
    "+ output activation func: sigmoid\n",
    "+ loss func: sigmoid cross entropy\n",
    "+ batch_size: 50\n",
    "+ learning_rate: 0.1\n",
    "+ epochs: 400"
   ]
  },
  {
   "cell_type": "code",
   "execution_count": 10,
   "metadata": {},
   "outputs": [],
   "source": [
    "#!/usr/bin/python\n",
    "# coding:utf-8\n",
    "import tensorflow as tf\n",
    "from tensorflow.contrib.layers import fully_connected\n",
    "import os\n",
    "os.environ['TF_CPP_MIN_LOG_LEVEL'] = '2'\n",
    "import dataset\n",
    "%matplotlib inline\n",
    "import matplotlib.pyplot as plt\n",
    "\n",
    "\n",
    "\n",
    "# get data from dataset module, which is\n",
    "data, label = dataset.get_samples(dataset.classify_circle_data, 500, 0.1)\n",
    "\n",
    "# define data in default graph\n",
    "X = tf.placeholder(dtype=tf.float32, shape=(None, 2), name=\"input\")\n",
    "Y = tf.placeholder(dtype=tf.float32, shape=None, name=\"label\")\n",
    "\n",
    "# try two hidden layers with 4 nodes each(3 layers in total)\n",
    "n_hidden1 = 4\n",
    "n_hidden2 = 4\n",
    "n_output = 1\n",
    "with tf.name_scope(\"dnn_circle\"):\n",
    "    hidden1 = fully_connected(X, n_hidden1, tf.nn.relu, scope=\"hidden1\")\n",
    "    hidden2 = fully_connected(hidden1, n_hidden2, tf.nn.relu, scope=\"hidden2\")\n",
    "    # only affine mapping, before activation function\n",
    "    logits = fully_connected(hidden2, n_output, scope=\"output\", activation_fn=None)\n",
    "\n",
    "with tf.name_scope(\"loss\"):\n",
    "    pred_y = tf.nn.sigmoid(logits)\n",
    "    xentropy = tf.nn.sigmoid_cross_entropy_with_logits(labels=Y, logits=logits)\n",
    "    loss = tf.reduce_mean(xentropy, name=\"loss\")\n",
    "\n",
    "learning_rate = 0.1\n",
    "with tf.name_scope(\"train\"):\n",
    "    optimizer = tf.train.GradientDescentOptimizer(learning_rate)\n",
    "    training_op = optimizer.minimize(loss)\n",
    "\n",
    "# 以准确率作为评价标准\n",
    "with tf.name_scope(\"eval\"):\n",
    "    concat_logits = tf.concat([tf.zeros_like(logits, dtype=tf.float32), logits], axis=1)\n",
    "    correct = tf.nn.in_top_k(concat_logits, tf.cast(Y, tf.int32), 1)\n",
    "    accuracy = tf.reduce_mean(tf.cast(correct, tf.float32))\n",
    "    init = tf.global_variables_initializer()"
   ]
  },
  {
   "cell_type": "markdown",
   "metadata": {},
   "source": [
    "## 3.执行计算和评估\n",
    "&emsp;&emsp;执行计算部分，每隔100个样本点输出一个预测$\\hat{y}$和真实标签$y$"
   ]
  },
  {
   "cell_type": "code",
   "execution_count": 19,
   "metadata": {},
   "outputs": [
    {
     "name": "stdout",
     "output_type": "stream",
     "text": [
      "Model 1: circle data\n",
      "Prediction:\n",
      "[[ 0.4814266 ]\n",
      " [ 0.46563849]\n",
      " [ 0.46487767]\n",
      " [ 0.06888825]\n",
      " [ 0.13334976]], \n",
      "True label:\n",
      "[ 1.  1.  1.  0.  0.], \n",
      "Loss:0.783, \n",
      "Accuracy:53.00%\n",
      "Prediction:\n",
      "[[ 0.95606923]\n",
      " [ 0.87332928]\n",
      " [ 0.94789648]\n",
      " [ 0.01675534]\n",
      " [ 0.00274603]], \n",
      "True label:\n",
      "[ 1.  1.  1.  0.  0.], \n",
      "Loss:2.009, \n",
      "Accuracy:96.60%\n",
      "Prediction:\n",
      "[[  9.57750022e-01]\n",
      " [  9.23199892e-01]\n",
      " [  9.45359528e-01]\n",
      " [  3.56134819e-03]\n",
      " [  6.30630995e-04]], \n",
      "True label:\n",
      "[ 1.  1.  1.  0.  0.], \n",
      "Loss:2.409, \n",
      "Accuracy:96.80%\n",
      "Prediction:\n",
      "[[  9.55752790e-01]\n",
      " [  9.45780754e-01]\n",
      " [  9.38915193e-01]\n",
      " [  1.52856612e-03]\n",
      " [  1.94721026e-04]], \n",
      "True label:\n",
      "[ 1.  1.  1.  0.  0.], \n",
      "Loss:2.616, \n",
      "Accuracy:97.00%\n",
      "Prediction:\n",
      "[[  9.54329848e-01]\n",
      " [  9.55984592e-01]\n",
      " [  9.38048005e-01]\n",
      " [  9.02401109e-04]\n",
      " [  7.47247032e-05]], \n",
      "True label:\n",
      "[ 1.  1.  1.  0.  0.], \n",
      "Loss:2.784, \n",
      "Accuracy:97.00%\n",
      "Prediction:\n",
      "[[  9.51785922e-01]\n",
      " [  9.53896224e-01]\n",
      " [  9.38957334e-01]\n",
      " [  4.97628120e-04]\n",
      " [  3.25091423e-05]], \n",
      "True label:\n",
      "[ 1.  1.  1.  0.  0.], \n",
      "Loss:2.928, \n",
      "Accuracy:97.00%\n",
      "Prediction:\n",
      "[[  9.49248433e-01]\n",
      " [  9.51397002e-01]\n",
      " [  9.38175917e-01]\n",
      " [  3.22974287e-04]\n",
      " [  1.58494404e-05]], \n",
      "True label:\n",
      "[ 1.  1.  1.  0.  0.], \n",
      "Loss:3.053, \n",
      "Accuracy:97.00%\n",
      "Prediction:\n",
      "[[  9.47786808e-01]\n",
      " [  9.49921846e-01]\n",
      " [  9.38124597e-01]\n",
      " [  2.30985897e-04]\n",
      " [  8.90312913e-06]], \n",
      "True label:\n",
      "[ 1.  1.  1.  0.  0.], \n",
      "Loss:3.164, \n",
      "Accuracy:97.00%\n"
     ]
    }
   ],
   "source": [
    "# save 'loss' and 'accuracy' sequences\n",
    "loss_val = []\n",
    "acc_val = []\n",
    "init = tf.global_variables_initializer()\n",
    "n_epochs = 400\n",
    "batch_size = 50\n",
    "with tf.Session().as_default() as sess:\n",
    "    init.run()\n",
    "    num = data.shape[0]\n",
    "    print(\"Model 1: circle data\")\n",
    "    for epoch in range(n_epochs):\n",
    "        for iter in range(num // batch_size):\n",
    "            X_batch = data[iter*batch_size: (iter+1)*batch_size, :]\n",
    "            Y_batch = label[iter*batch_size: (iter+1)*batch_size]\n",
    "            sess.run(training_op, feed_dict={X: X_batch, Y: Y_batch})\n",
    "        l, acc = sess.run([loss, accuracy], feed_dict={X: data, Y: label})\n",
    "        loss_val.append([epoch, l])\n",
    "        acc_val.append([epoch, acc])\n",
    "        if not ((epoch) % 50):\n",
    "            preds = sess.run(pred_y, feed_dict={X: data, Y: label})\n",
    "            print(\"Prediction:\\n{}, \\nTrue label:\\n{},\"\n",
    "                  \" \\nLoss:{:.3f}, \\nAccuracy:{:.2%}\".format(preds[::100], label[::100], l, acc))\n"
   ]
  },
  {
   "cell_type": "markdown",
   "metadata": {},
   "source": [
    "&emsp;&emsp;画出损失函数和准确率随epoch迭代的图像，非常奇怪的发现虽然准确率不断上升，并且从部分输出点来看表现有增进；但是损失函数也呈现上升趋势，这很反直觉。一个解释是，参数的优化是按照mini batch小样本得到，但是accurate rate是在全样本上计算得到（应该和`playground`）不同。TODO：画出mini batch上迭代的loss图像，查看tensorflow的sigmoid cross entropy实现方式。"
   ]
  },
  {
   "cell_type": "code",
   "execution_count": 20,
   "metadata": {},
   "outputs": [
    {
     "data": {
      "image/png": "[encoded data removed]",
      "text/plain": [
       "<Figure size 432x288 with 2 Axes>"
      ]
     },
     "metadata": {
      "needs_background": "light"
     },
     "output_type": "display_data"
    }
   ],
   "source": [
    "# graph of 'loss' and 'accuracy'\n",
    "loss_val = list(zip(*loss_val))\n",
    "acc_val = list(zip(*acc_val))\n",
    "import matplotlib.ticker as ticker\n",
    "fig, ax1 = plt.subplots()\n",
    "ax2 = ax1.twinx()\n",
    "ax1.plot(np.array(loss_val[0]), np.array(loss_val[1]), \"-r\", label=\"loss\")\n",
    "ax2.plot(np.array(acc_val[0]), np.array(acc_val[1])*100, color=\"skyblue\", label=\"accurate rate\")\n",
    "ax2.yaxis.set_major_formatter(ticker.FormatStrFormatter(\"%.2f%%\"))\n",
    "ax1.set_xlabel(\"epochs\")\n",
    "handles1, labels1 = ax1.get_legend_handles_labels()\n",
    "handles2, labels2 = ax2.get_legend_handles_labels()\n",
    "plt.legend(handles1+handles2, labels1+labels2)\n",
    "plt.title(\"circle dataset training evaluation\")\n",
    "plt.show()"
   ]
  },
  {
   "cell_type": "markdown",
   "metadata": {},
   "source": [
    "## 4.测试集上的表现\n",
    "&emsp;&emsp;to be continued..."
   ]
  },
  {
   "cell_type": "markdown",
   "metadata": {},
   "source": [
    "## 5.添加正则化项\n",
    "&emsp;&emsp;to be continued..."
   ]
  }
 ],
 "metadata": {
  "kernelspec": {
   "display_name": "Python 3-tensorflow",
   "language": "python",
   "name": "tensorflow"
  },
  "language_info": {
   "codemirror_mode": {
    "name": "ipython",
    "version": 3
   },
   "file_extension": ".py",
   "mimetype": "text/x-python",
   "name": "python",
   "nbconvert_exporter": "python",
   "pygments_lexer": "ipython3",
   "version": "3.6.7"
  }
 },
 "nbformat": 4,
 "nbformat_minor": 2
}
