{
 "cells": [
  {
   "cell_type": "markdown",
   "metadata": {},
   "source": [
    "# Playground Datasets\n",
    "\n",
    "本项目基于"
   ]
  },
  {
   "cell_type": "markdown",
   "metadata": {},
   "source": [
    "## 2.定义计算图"
   ]
  },
  {
   "cell_type": "code",
   "execution_count": 24,
   "metadata": {},
   "outputs": [],
   "source": [
    "#!/usr/bin/env python\n",
    "# coding:utf-8\n",
    "import tensorflow as tf\n",
    "from tensorflow.contrib.layers import fully_connected\n",
    "import os\n",
    "import dataset_g\n",
    "%matplotlib inline\n",
    "import matplotlib.pyplot as plt\n",
    "\n",
    "tf.reset_default_graph()\n",
    "\n",
    "# get data from dataset_g with relative parameters\n",
    "num_samples = 500\n",
    "noise = 0.05\n",
    "data, label = dataset_g.get_samples(dataset_g.classify_spiral_data, num_samples, noise, False)\n",
    "\n",
    "# Construct computation graph\n",
    "X = tf.placeholder(dtype=tf.float32, shape=(None,2), name='input')\n",
    "Y = tf.placeholder(dtype=tf.float32, shape=(None,1), name='label')\n",
    "\n",
    "# define numbers of hidden layers and relative nodes\n",
    "# try 6 hidden layers with following nodes  \n",
    "n_hidden = [8,8,6,6,4,4]\n",
    "n_output = 1\n",
    "with tf.name_scope(\"dnn_spiral\"):\n",
    "    hidden = []\n",
    "    hidden.append(X)\n",
    "    for i in range(len(n_hidden)):\n",
    "        hidden.append(fully_connected(hidden[i], n_hidden[i], tf.nn.leaky_relu, scope=\"hidden\"+str(i+1),weights_initializer=tf.random_uniform_initializer(minval=-1, maxval=1),\n",
    "                                 biases_initializer=tf.constant_initializer(0.1)))\n",
    "    pred_y = fully_connected(hidden[len(n_hidden)], n_output,tf.nn.tanh, scope=\"output\" ,weights_initializer=tf.random_uniform_initializer(minval=-0.5, maxval=0.5),\n",
    "                             biases_initializer=tf.constant_initializer(0.1))\n",
    "\n",
    "with tf.name_scope(\"get_loss\"):\n",
    "    #pred_y = tf.nn.sigmoid(logit_y)\n",
    "    #xentropy = tf.nn.sigmoid_cross_entropy_with_logits(labels=Y, logits=logit_y)\n",
    "    loss = tf.reduce_mean(tf.square(pred_y - Y), name=\"loss\")\n",
    "\n",
    "learning_rate = 0.03\n",
    "with tf.name_scope(\"train\"):\n",
    "    optimizer = tf.train.GradientDescentOptimizer(learning_rate)\n",
    "    training_op = optimizer.minimize(loss)\n",
    "    \n",
    "# evaluate by accuracy\n",
    "with tf.name_scope(\"eval\"):\n",
    "    concat_preds = tf.concat([tf.zeros_like(pred_y, dtype=tf.float32),pred_y],axis=1) #concat (500,1) to (500,2)\n",
    "    correct = tf.nn.in_top_k(concat_preds, tf.cast(tf.clip_by_value(tf.squeeze(Y, [1]), 0., 1.), tf.int32), 1) #transfer label from -1 or 1 to 0 or 1 to be index\n",
    "    accuracy = tf.reduce_mean(tf.cast(correct, tf.float32))\n",
    "    init = tf.global_variables_initializer()"
   ]
  },
  {
   "cell_type": "markdown",
   "metadata": {},
   "source": [
    "## 3.执行和评估"
   ]
  },
  {
   "cell_type": "code",
   "execution_count": 26,
   "metadata": {},
   "outputs": [
    {
     "name": "stdout",
     "output_type": "stream",
     "text": [
      "Model: Spiral data\n",
      "0\n",
      "Prediction:\n",
      "[[-0.3677785 ]\n",
      " [-0.5733165 ]\n",
      " [-0.11528946]\n",
      " [-0.3627441 ]\n",
      " [-0.25353688]], \n",
      "True label:\n",
      "[[ 1]\n",
      " [ 1]\n",
      " [ 1]\n",
      " [-1]\n",
      " [-1]], \n",
      "Loss:1.181, \n",
      "Accuracy:50.00%\n",
      "400\n",
      "Prediction:\n",
      "[[ 0.5938435]\n",
      " [ 0.5949684]\n",
      " [ 0.882275 ]\n",
      " [-0.9987795]\n",
      " [ 0.9918728]], \n",
      "True label:\n",
      "[[ 1]\n",
      " [ 1]\n",
      " [ 1]\n",
      " [-1]\n",
      " [-1]], \n",
      "Loss:0.602, \n",
      "Accuracy:82.80%\n",
      "800\n",
      "Prediction:\n",
      "[[ 0.73944813]\n",
      " [ 0.74226886]\n",
      " [ 1.        ]\n",
      " [-0.99540627]\n",
      " [-0.9493934 ]], \n",
      "True label:\n",
      "[[ 1]\n",
      " [ 1]\n",
      " [ 1]\n",
      " [-1]\n",
      " [-1]], \n",
      "Loss:0.145, \n",
      "Accuracy:95.80%\n",
      "1200\n",
      "Prediction:\n",
      "[[-0.6680819]\n",
      " [ 0.8861599]\n",
      " [ 1.       ]\n",
      " [-0.9478015]\n",
      " [ 1.       ]], \n",
      "True label:\n",
      "[[ 1]\n",
      " [ 1]\n",
      " [ 1]\n",
      " [-1]\n",
      " [-1]], \n",
      "Loss:1.027, \n",
      "Accuracy:73.80%\n",
      "1600\n",
      "Prediction:\n",
      "[[ 0.30264997]\n",
      " [ 0.87593716]\n",
      " [ 1.        ]\n",
      " [-0.9690696 ]\n",
      " [-0.99879396]], \n",
      "True label:\n",
      "[[ 1]\n",
      " [ 1]\n",
      " [ 1]\n",
      " [-1]\n",
      " [-1]], \n",
      "Loss:0.168, \n",
      "Accuracy:96.00%\n",
      "2000\n",
      "Prediction:\n",
      "[[ 0.8775457 ]\n",
      " [ 0.98826337]\n",
      " [ 1.        ]\n",
      " [-0.9948073 ]\n",
      " [-0.99541587]], \n",
      "True label:\n",
      "[[ 1]\n",
      " [ 1]\n",
      " [ 1]\n",
      " [-1]\n",
      " [-1]], \n",
      "Loss:0.160, \n",
      "Accuracy:96.00%\n",
      "2400\n",
      "Prediction:\n",
      "[[ 0.90288097]\n",
      " [ 0.99296916]\n",
      " [ 1.        ]\n",
      " [-0.9959901 ]\n",
      " [-0.99746525]], \n",
      "True label:\n",
      "[[ 1]\n",
      " [ 1]\n",
      " [ 1]\n",
      " [-1]\n",
      " [-1]], \n",
      "Loss:0.160, \n",
      "Accuracy:96.00%\n",
      "2800\n",
      "Prediction:\n",
      "[[ 0.9184288 ]\n",
      " [ 0.9946125 ]\n",
      " [ 1.        ]\n",
      " [-0.99630696]\n",
      " [-0.99819803]], \n",
      "True label:\n",
      "[[ 1]\n",
      " [ 1]\n",
      " [ 1]\n",
      " [-1]\n",
      " [-1]], \n",
      "Loss:0.160, \n",
      "Accuracy:96.00%\n",
      "3200\n",
      "Prediction:\n",
      "[[ 0.92979854]\n",
      " [ 0.9953054 ]\n",
      " [ 1.        ]\n",
      " [-0.9963045 ]\n",
      " [-0.99860495]], \n",
      "True label:\n",
      "[[ 1]\n",
      " [ 1]\n",
      " [ 1]\n",
      " [-1]\n",
      " [-1]], \n",
      "Loss:0.160, \n",
      "Accuracy:96.00%\n",
      "3600\n",
      "Prediction:\n",
      "[[ 0.9366165 ]\n",
      " [ 0.9958191 ]\n",
      " [ 1.        ]\n",
      " [-0.99657226]\n",
      " [-0.9988313 ]], \n",
      "True label:\n",
      "[[ 1]\n",
      " [ 1]\n",
      " [ 1]\n",
      " [-1]\n",
      " [-1]], \n",
      "Loss:0.160, \n",
      "Accuracy:96.00%\n"
     ]
    }
   ],
   "source": [
    "# save 'loss' and 'accuracy' sequences\n",
    "init = tf.global_variables_initializer()\n",
    "loss_val = []\n",
    "acc_val = []\n",
    "n_epochs = 4000\n",
    "batch_size = 30\n",
    "with tf.Session() as sess:    #tf.Session和tf.Session的区别在于后者创建的会话需要手动关闭，资源不会自动释放，仍可调用。\n",
    "    init.run()\n",
    "    num = data.shape[0]\n",
    "    print(\"Model: Spiral data\")\n",
    "    for epoch in range(n_epochs):\n",
    "        for iter in range(num // batch_size):\n",
    "            X_batch = data[iter*batch_size: (iter+1)*batch_size, :]\n",
    "            Y_batch = label[iter*batch_size: (iter+1)*batch_size, :]\n",
    "            sess.run(training_op, feed_dict={X: X_batch, Y: Y_batch})\n",
    "        l, acc = sess.run([loss, accuracy], feed_dict={X: data, Y: label})\n",
    "        loss_val.append([epoch, l])\n",
    "        acc_val.append([epoch, acc])\n",
    "        if not ((epoch) % 400):\n",
    "            preds = sess.run(pred_y, feed_dict={X: data, Y: label})\n",
    "            print(epoch)\n",
    "            print(\"Prediction:\\n{}, \\nTrue label:\\n{},\"\n",
    "                  \" \\nLoss:{:.3f}, \\nAccuracy:{:.2%}\".format(preds[::100], label[::100], l, acc))\n",
    "    "
   ]
  },
  {
   "cell_type": "code",
   "execution_count": 4,
   "metadata": {},
   "outputs": [
    {
     "data": {
      "text/plain": [
       "(500, 1)"
      ]
     },
     "execution_count": 4,
     "metadata": {},
     "output_type": "execute_result"
    }
   ],
   "source": [
    "# for test\n",
    "import tensorflow as tf\n",
    "from tensorflow.contrib.layers import fully_connected\n",
    "import os\n",
    "import dataset_g\n",
    "%matplotlib inline\n",
    "import matplotlib.pyplot as plt\n",
    "\n",
    "data, label = dataset_g.get_samples(dataset_g.classify_two_gauss_data, 500, 0.1,True)\n",
    "data.shape\n",
    "label.shape"
   ]
  },
  {
   "cell_type": "code",
   "execution_count": 17,
   "metadata": {},
   "outputs": [
    {
     "data": {
      "text/plain": [
       "[<tf.Tensor 'input:0' shape=(?, 2) dtype=float32>,\n",
       " <tf.Tensor 'dnn_spiral/hidden1/Relu:0' shape=(?, 8) dtype=float32>,\n",
       " <tf.Tensor 'dnn_spiral/hidden2/Relu:0' shape=(?, 8) dtype=float32>,\n",
       " <tf.Tensor 'dnn_spiral/hidden3/Relu:0' shape=(?, 6) dtype=float32>,\n",
       " <tf.Tensor 'dnn_spiral/hidden4/Relu:0' shape=(?, 6) dtype=float32>,\n",
       " <tf.Tensor 'dnn_spiral/hidden5/Relu:0' shape=(?, 4) dtype=float32>,\n",
       " <tf.Tensor 'dnn_spiral/hidden6/Relu:0' shape=(?, 4) dtype=float32>]"
      ]
     },
     "execution_count": 17,
     "metadata": {},
     "output_type": "execute_result"
    }
   ],
   "source": [
    "hidden"
   ]
  },
  {
   "cell_type": "code",
   "execution_count": 18,
   "metadata": {},
   "outputs": [
    {
     "data": {
      "text/plain": [
       "<tf.Tensor 'dnn_spiral/output/Tanh:0' shape=(?, 1) dtype=float32>"
      ]
     },
     "execution_count": 18,
     "metadata": {},
     "output_type": "execute_result"
    }
   ],
   "source": [
    "pred_y"
   ]
  }
 ],
 "metadata": {
  "kernelspec": {
   "display_name": "Python 3(tensorflow)",
   "language": "python",
   "name": "python3"
  },
  "language_info": {
   "codemirror_mode": {
    "name": "ipython",
    "version": 3
   },
   "file_extension": ".py",
   "mimetype": "text/x-python",
   "name": "python",
   "nbconvert_exporter": "python",
   "pygments_lexer": "ipython3",
   "version": "3.6.7"
  }
 },
 "nbformat": 4,
 "nbformat_minor": 2
}
