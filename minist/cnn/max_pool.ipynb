{
 "cells": [
  {
   "cell_type": "markdown",
   "metadata": {},
   "source": [
    "+ tf.nn.max_pool(value, ksize, strides, padding, name=None)\n",
    "\n",
    "+ 参数是四个，和卷积很类似：\n",
    "   + 第一个参数value：需要池化的输入，一般池化层接在卷积层后面，所以输入通常是feature map，依然是[batch, height, width, channels]这样的shape\n",
    "\n",
    "   + 第二个参数ksize：池化窗口的大小，取一个四维向量，一般是[1, height, width, 1]，因为我们不想在batch和channels上做池化，所以这两个维度设为了1\n",
    "\n",
    "   + 第三个参数strides：和卷积类似，窗口在每一个维度上滑动的步长，一般也是[1, stride,stride, 1]\n",
    "\n",
    "   + 第四个参数padding：和卷积类似，可以取'VALID' 或者'SAME'\n",
    "\n",
    "+ 返回一个Tensor，类型不变，shape仍然是[batch, height, width, channels]这种形式"
   ]
  },
  {
   "cell_type": "code",
   "execution_count": 6,
   "metadata": {},
   "outputs": [
    {
     "name": "stdout",
     "output_type": "stream",
     "text": [
      "image:\n",
      "[[[[1. 2.]\n",
      "   [3. 4.]\n",
      "   [5. 6.]\n",
      "   [7. 8.]]\n",
      "\n",
      "  [[8. 7.]\n",
      "   [6. 5.]\n",
      "   [4. 3.]\n",
      "   [2. 1.]]\n",
      "\n",
      "  [[4. 3.]\n",
      "   [2. 1.]\n",
      "   [8. 7.]\n",
      "   [6. 5.]]\n",
      "\n",
      "  [[1. 2.]\n",
      "   [3. 4.]\n",
      "   [5. 6.]\n",
      "   [7. 8.]]]]\n",
      "reslut:\n",
      "[[[[8. 7.]\n",
      "   [6. 6.]\n",
      "   [7. 8.]\n",
      "   [7. 8.]]\n",
      "\n",
      "  [[8. 7.]\n",
      "   [8. 7.]\n",
      "   [8. 7.]\n",
      "   [6. 5.]]\n",
      "\n",
      "  [[4. 4.]\n",
      "   [8. 7.]\n",
      "   [8. 8.]\n",
      "   [7. 8.]]\n",
      "\n",
      "  [[3. 4.]\n",
      "   [5. 6.]\n",
      "   [7. 8.]\n",
      "   [7. 8.]]]]\n"
     ]
    }
   ],
   "source": [
    "import tensorflow as tf  \n",
    "  \n",
    "a=tf.constant([  \n",
    "        [[1.0,2.0,3.0,4.0],  \n",
    "        [5.0,6.0,7.0,8.0],  \n",
    "        [8.0,7.0,6.0,5.0],  \n",
    "        [4.0,3.0,2.0,1.0]],  \n",
    "        [[4.0,3.0,2.0,1.0],  \n",
    "         [8.0,7.0,6.0,5.0],  \n",
    "         [1.0,2.0,3.0,4.0],  \n",
    "         [5.0,6.0,7.0,8.0]]  \n",
    "    ])  \n",
    "  \n",
    "a=tf.reshape(a,[1,4,4,2])  \n",
    "  \n",
    "pooling=tf.nn.max_pool(a,[1,2,2,1],[1,1,1,1],padding='SAME')  \n",
    "with tf.Session() as sess:  \n",
    "    print(\"image:\")  \n",
    "    image=sess.run(a)  \n",
    "    print (image)  \n",
    "    print(\"reslut:\")  \n",
    "    result=sess.run(pooling)  \n",
    "    print (result)  "
   ]
  },
  {
   "cell_type": "code",
   "execution_count": null,
   "metadata": {},
   "outputs": [],
   "source": []
  }
 ],
 "metadata": {
  "kernelspec": {
   "display_name": "Python tensorflow",
   "language": "python",
   "name": "tensorflow"
  },
  "language_info": {
   "codemirror_mode": {
    "name": "ipython",
    "version": 3
   },
   "file_extension": ".py",
   "mimetype": "text/x-python",
   "name": "python",
   "nbconvert_exporter": "python",
   "pygments_lexer": "ipython3",
   "version": "3.6.2"
  }
 },
 "nbformat": 4,
 "nbformat_minor": 2
}
