{
 "cells": [
  {
   "cell_type": "markdown",
   "metadata": {},
   "source": [
    "# Playground datasets train on local computer (I)\n",
    "&emsp;&emsp;基于`playground`的4种样例数据集，尝试在本机训练DNN模型进行二分类问题。由于4个分类问题对于模型规模和具体参数选择略有不同，将以下4个问题分别进行探讨：\n",
    "+ <b>circle data</b>\n",
    "+ gauss data\n",
    "+ xor data\n",
    "+ spiral data\n",
    "<img src=\"img/dataset_subplots.png\" height=\"50%\" width=\"50%\">\n",
    "\n",
    "&emsp;&emsp;本文档针对第一个数据集。在模型训练过程中，在尽量保持与`playground`结果可比的基础上，进行一定灵活的优化（尤其是对激活函数和学习率的不同尝试）。通过`playground`源码可推断其使用的代价函数(loss function $J(\\theta)$，如下图)形式为均方误差函数MSE(mean square error)，并且其输出单元的激活函数与隐藏层定义的激活函数类型相同。\n",
    "<img src=\"img/playground_src_loss.jpg\" height=\"50%\" width=\"50%\">\n",
    "\n",
    "<!-- TOC START min:1 max:6 link:true update:false -->\n",
    "- [1.数据预处理](#1数据预处理)  \n",
    "- [2.定义计算图](#2定义计算图)  \n",
    "- [3.执行计算和评估](#3执行计算和评估)  \n",
    "- [4.测试集上的表现](#4测试集上的表现)  \n",
    "- [5.添加正则化项](#5添加正则化项)  \n",
    "<!-- TOC END -->"
   ]
  },
  {
   "cell_type": "markdown",
   "metadata": {},
   "source": [
    "## 1.数据预处理\n",
    "&emsp;&emsp;由数据生成模块`dataset.py`得到的数据标签为1和-1，考虑到在损失函数中我们可能使用交叉熵(cross-entropy)的形式，即输出$\\hat{y}$(output或prediction)实际是分类的概率，应当有$\\hat{y} \\in [0, 1]$，故将标签正则化为1和0。在`dataset.py`文件中新定义`get_samples`函数获取指定生成类型和样本量的样本及标签。\n",
    "```python\n",
    "def get_samples(data_type, size, noise):\n",
    "    raw_data = data_type(size, noise)\n",
    "    x1 = [r[\"x\"] for r in raw_data]\n",
    "    x2 = [r[\"y\"] for r in raw_data]\n",
    "    lab = [r[\"label\"] for r in raw_data]\n",
    "    data = np.array(list(zip(x1, x2)))\n",
    "    label = np.clip(np.array(lab), 0.0, 1.0)\n",
    "    return data, label\n",
    "```"
   ]
  },
  {
   "cell_type": "markdown",
   "metadata": {},
   "source": [
    "## 2.定义计算图\n",
    "&emsp;&emsp;通过先在`playground`上进行试验，仅采用$x_1, \\ x_2$两个features也能在小规模模型中获得较快的收敛速度。在优化过程中，使用批量优化(batch optimization，参见_Deep Learning_ 8.1.3节)训练模型非常困难（收敛慢）；转而采用小批量优化方法(mini batch)。定义该模型计算图要素如下：\n",
    "+ training size: 500\n",
    "+ noise rate: 0.1(10 in `playground`)\n",
    "+ hidden layers: 2\n",
    "+ nodes in each layer: 4\n",
    "+ activation func: ReLu\n",
    "+ output activation func: sigmoid\n",
    "+ loss func: sigmoid cross entropy\n",
    "+ batch_size: 50\n",
    "+ learning_rate: 0.1\n",
    "+ epochs: 400"
   ]
  },
  {
   "cell_type": "code",
   "execution_count": 2,
   "metadata": {},
   "outputs": [],
   "source": [
    "#!/usr/bin/python\n",
    "# coding:utf-8\n",
    "import tensorflow as tf\n",
    "from tensorflow.contrib.layers import fully_connected\n",
    "import os\n",
    "os.environ['TF_CPP_MIN_LOG_LEVEL'] = '2'\n",
    "import dataset\n",
    "%matplotlib inline\n",
    "import matplotlib.pyplot as plt\n",
    "\n",
    "\n",
    "\n",
    "# get data from dataset module, which is\n",
    "data, label = dataset.get_samples(dataset.classify_circle_data, 500, 0.1)\n",
    "\n",
    "# define data in default graph\n",
    "X = tf.placeholder(dtype=tf.float32, shape=(None, 2), name=\"input\")\n",
    "Y = tf.placeholder(dtype=tf.float32, shape=None, name=\"label\")\n",
    "\n",
    "# try two hidden layers with 4 nodes each(3 layers in total)\n",
    "n_hidden1 = 4\n",
    "n_hidden2 = 4\n",
    "n_output = 1\n",
    "with tf.name_scope(\"dnn_circle\"):\n",
    "    hidden1 = fully_connected(X, n_hidden1, tf.nn.relu, scope=\"hidden1\")\n",
    "    hidden2 = fully_connected(hidden1, n_hidden2, tf.nn.relu, scope=\"hidden2\")\n",
    "    # only affine mapping, before activation function\n",
    "    logits = fully_connected(hidden2, n_output, scope=\"output\", activation_fn=None)\n",
    "\n",
    "with tf.name_scope(\"loss\"):\n",
    "    pred_y = tf.nn.sigmoid(logits)\n",
    "    xentropy = tf.nn.sigmoid_cross_entropy_with_logits(labels=Y, logits=logits)\n",
    "    loss = tf.reduce_mean(xentropy, name=\"loss\")\n",
    "\n",
    "learning_rate = 0.1\n",
    "with tf.name_scope(\"train\"):\n",
    "    optimizer = tf.train.GradientDescentOptimizer(learning_rate)\n",
    "    training_op = optimizer.minimize(loss)\n",
    "\n",
    "# 以准确率作为评价标准\n",
    "with tf.name_scope(\"eval\"):\n",
    "    concat_logits = tf.concat([tf.zeros_like(logits, dtype=tf.float32), logits], axis=1)\n",
    "    correct = tf.nn.in_top_k(concat_logits, tf.cast(Y, tf.int32), 1)\n",
    "    accuracy = tf.reduce_mean(tf.cast(correct, tf.float32))\n",
    "    init = tf.global_variables_initializer()"
   ]
  },
  {
   "cell_type": "markdown",
   "metadata": {},
   "source": [
    "## 3.执行计算和评估\n",
    "&emsp;&emsp;执行计算部分，每隔100个样本点输出一个预测$\\hat{y}$和真实标签$y$"
   ]
  },
  {
   "cell_type": "code",
   "execution_count": 3,
   "metadata": {},
   "outputs": [
    {
     "name": "stdout",
     "output_type": "stream",
     "text": [
      "Model 1: circle data\n",
      "Prediction:\n",
      "[[ 0.41977236]\n",
      " [ 0.43025789]\n",
      " [ 0.47355783]\n",
      " [ 0.42949021]\n",
      " [ 0.26159251]], \n",
      "True label:\n",
      "[ 1.  1.  1.  0.  0.], \n",
      "Loss:0.718, \n",
      "Accuracy:47.60%\n",
      "Prediction:\n",
      "[[ 0.92906731]\n",
      " [ 0.93006349]\n",
      " [ 0.94617832]\n",
      " [ 0.02096295]\n",
      " [ 0.01496587]], \n",
      "True label:\n",
      "[ 1.  1.  1.  0.  0.], \n",
      "Loss:1.992, \n",
      "Accuracy:97.60%\n",
      "Prediction:\n",
      "[[ 0.9522866 ]\n",
      " [ 0.95269674]\n",
      " [ 0.96373296]\n",
      " [ 0.00436792]\n",
      " [ 0.00333845]], \n",
      "True label:\n",
      "[ 1.  1.  1.  0.  0.], \n",
      "Loss:2.516, \n",
      "Accuracy:97.60%\n",
      "Prediction:\n",
      "[[ 0.95054454]\n",
      " [ 0.950858  ]\n",
      " [ 0.96187943]\n",
      " [ 0.00171253]\n",
      " [ 0.00122731]], \n",
      "True label:\n",
      "[ 1.  1.  1.  0.  0.], \n",
      "Loss:2.779, \n",
      "Accuracy:97.60%\n",
      "Prediction:\n",
      "[[  9.49394226e-01]\n",
      " [  9.49669659e-01]\n",
      " [  9.60268259e-01]\n",
      " [  8.26336327e-04]\n",
      " [  5.72293939e-04]], \n",
      "True label:\n",
      "[ 1.  1.  1.  0.  0.], \n",
      "Loss:2.988, \n",
      "Accuracy:97.60%\n",
      "Prediction:\n",
      "[[  9.49177742e-01]\n",
      " [  9.49375391e-01]\n",
      " [  9.58772480e-01]\n",
      " [  4.39072959e-04]\n",
      " [  3.46414396e-04]], \n",
      "True label:\n",
      "[ 1.  1.  1.  0.  0.], \n",
      "Loss:3.155, \n",
      "Accuracy:97.60%\n",
      "Prediction:\n",
      "[[  9.49315786e-01]\n",
      " [  9.49456453e-01]\n",
      " [  9.57654357e-01]\n",
      " [  2.74419872e-04]\n",
      " [  2.12310042e-04]], \n",
      "True label:\n",
      "[ 1.  1.  1.  0.  0.], \n",
      "Loss:3.289, \n",
      "Accuracy:97.60%\n",
      "Prediction:\n",
      "[[  9.49492514e-01]\n",
      " [  9.49590325e-01]\n",
      " [  9.56760287e-01]\n",
      " [  1.96048757e-04]\n",
      " [  1.46998995e-04]], \n",
      "True label:\n",
      "[ 1.  1.  1.  0.  0.], \n",
      "Loss:3.406, \n",
      "Accuracy:97.60%\n"
     ]
    }
   ],
   "source": [
    "# save 'loss' and 'accuracy' sequences\n",
    "loss_val = []\n",
    "acc_val = []\n",
    "init = tf.global_variables_initializer()\n",
    "n_epochs = 400\n",
    "batch_size = 50\n",
    "with tf.Session().as_default() as sess:\n",
    "    init.run()\n",
    "    num = data.shape[0]\n",
    "    print(\"Model 1: circle data\")\n",
    "    for epoch in range(n_epochs):\n",
    "        for iter in range(num // batch_size):\n",
    "            X_batch = data[iter*batch_size: (iter+1)*batch_size, :]\n",
    "            Y_batch = label[iter*batch_size: (iter+1)*batch_size]\n",
    "            sess.run(training_op, feed_dict={X: X_batch, Y: Y_batch})\n",
    "        l, acc = sess.run([loss, accuracy], feed_dict={X: data, Y: label})\n",
    "        loss_val.append([epoch, l])\n",
    "        acc_val.append([epoch, acc])\n",
    "        if not ((epoch) % 50):\n",
    "            preds = sess.run(pred_y, feed_dict={X: data, Y: label})\n",
    "            print(\"Prediction:\\n{}, \\nTrue label:\\n{},\"\n",
    "                  \" \\nLoss:{:.3f}, \\nAccuracy:{:.2%}\".format(preds[::100], label[::100], l, acc))\n"
   ]
  },
  {
   "cell_type": "markdown",
   "metadata": {},
   "source": [
    "&emsp;&emsp;画出损失函数和准确率随epoch迭代的图像，非常奇怪的发现虽然准确率不断上升，并且从部分输出点来看表现有增进；但是损失函数也呈现上升趋势，这很反直觉。TODO：画出每个iter上迭代的loss图像，查看tensorflow的sigmoid cross entropy实现方式。在下一个模型中，我们将探讨这个问题。"
   ]
  },
  {
   "cell_type": "code",
   "execution_count": 4,
   "metadata": {},
   "outputs": [
    {
     "ename": "NameError",
     "evalue": "name 'np' is not defined",
     "output_type": "error",
     "traceback": [
      "\u001b[1;31m---------------------------------------------------------------------------\u001b[0m",
      "\u001b[1;31mNameError\u001b[0m                                 Traceback (most recent call last)",
      "\u001b[1;32m<ipython-input-4-99fef0135ac3>\u001b[0m in \u001b[0;36m<module>\u001b[1;34m\u001b[0m\n\u001b[0;32m      5\u001b[0m \u001b[0mfig\u001b[0m\u001b[1;33m,\u001b[0m \u001b[0max1\u001b[0m \u001b[1;33m=\u001b[0m \u001b[0mplt\u001b[0m\u001b[1;33m.\u001b[0m\u001b[0msubplots\u001b[0m\u001b[1;33m(\u001b[0m\u001b[1;33m)\u001b[0m\u001b[1;33m\u001b[0m\u001b[1;33m\u001b[0m\u001b[0m\n\u001b[0;32m      6\u001b[0m \u001b[0max2\u001b[0m \u001b[1;33m=\u001b[0m \u001b[0max1\u001b[0m\u001b[1;33m.\u001b[0m\u001b[0mtwinx\u001b[0m\u001b[1;33m(\u001b[0m\u001b[1;33m)\u001b[0m\u001b[1;33m\u001b[0m\u001b[1;33m\u001b[0m\u001b[0m\n\u001b[1;32m----> 7\u001b[1;33m \u001b[0max1\u001b[0m\u001b[1;33m.\u001b[0m\u001b[0mplot\u001b[0m\u001b[1;33m(\u001b[0m\u001b[0mnp\u001b[0m\u001b[1;33m.\u001b[0m\u001b[0marray\u001b[0m\u001b[1;33m(\u001b[0m\u001b[0mloss_val\u001b[0m\u001b[1;33m[\u001b[0m\u001b[1;36m0\u001b[0m\u001b[1;33m]\u001b[0m\u001b[1;33m)\u001b[0m\u001b[1;33m,\u001b[0m \u001b[0mnp\u001b[0m\u001b[1;33m.\u001b[0m\u001b[0marray\u001b[0m\u001b[1;33m(\u001b[0m\u001b[0mloss_val\u001b[0m\u001b[1;33m[\u001b[0m\u001b[1;36m1\u001b[0m\u001b[1;33m]\u001b[0m\u001b[1;33m)\u001b[0m\u001b[1;33m,\u001b[0m \u001b[1;34m\"-r\"\u001b[0m\u001b[1;33m,\u001b[0m \u001b[0mlabel\u001b[0m\u001b[1;33m=\u001b[0m\u001b[1;34m\"loss\"\u001b[0m\u001b[1;33m)\u001b[0m\u001b[1;33m\u001b[0m\u001b[1;33m\u001b[0m\u001b[0m\n\u001b[0m\u001b[0;32m      8\u001b[0m \u001b[0max2\u001b[0m\u001b[1;33m.\u001b[0m\u001b[0mplot\u001b[0m\u001b[1;33m(\u001b[0m\u001b[0mnp\u001b[0m\u001b[1;33m.\u001b[0m\u001b[0marray\u001b[0m\u001b[1;33m(\u001b[0m\u001b[0macc_val\u001b[0m\u001b[1;33m[\u001b[0m\u001b[1;36m0\u001b[0m\u001b[1;33m]\u001b[0m\u001b[1;33m)\u001b[0m\u001b[1;33m,\u001b[0m \u001b[0mnp\u001b[0m\u001b[1;33m.\u001b[0m\u001b[0marray\u001b[0m\u001b[1;33m(\u001b[0m\u001b[0macc_val\u001b[0m\u001b[1;33m[\u001b[0m\u001b[1;36m1\u001b[0m\u001b[1;33m]\u001b[0m\u001b[1;33m)\u001b[0m\u001b[1;33m*\u001b[0m\u001b[1;36m100\u001b[0m\u001b[1;33m,\u001b[0m \u001b[0mcolor\u001b[0m\u001b[1;33m=\u001b[0m\u001b[1;34m\"skyblue\"\u001b[0m\u001b[1;33m,\u001b[0m \u001b[0mlabel\u001b[0m\u001b[1;33m=\u001b[0m\u001b[1;34m\"accurate rate\"\u001b[0m\u001b[1;33m)\u001b[0m\u001b[1;33m\u001b[0m\u001b[1;33m\u001b[0m\u001b[0m\n\u001b[0;32m      9\u001b[0m \u001b[0max2\u001b[0m\u001b[1;33m.\u001b[0m\u001b[0myaxis\u001b[0m\u001b[1;33m.\u001b[0m\u001b[0mset_major_formatter\u001b[0m\u001b[1;33m(\u001b[0m\u001b[0mticker\u001b[0m\u001b[1;33m.\u001b[0m\u001b[0mFormatStrFormatter\u001b[0m\u001b[1;33m(\u001b[0m\u001b[1;34m\"%.2f%%\"\u001b[0m\u001b[1;33m)\u001b[0m\u001b[1;33m)\u001b[0m\u001b[1;33m\u001b[0m\u001b[1;33m\u001b[0m\u001b[0m\n",
      "\u001b[1;31mNameError\u001b[0m: name 'np' is not defined"
     ]
    },
    {
     "data": {
      "image/png": "[encoded data removed]",
      "text/plain": [
       "<Figure size 432x288 with 2 Axes>"
      ]
     },
     "metadata": {
      "needs_background": "light"
     },
     "output_type": "display_data"
    }
   ],
   "source": [
    "# graph of 'loss' and 'accuracy'\n",
    "loss_val = list(zip(*loss_val))\n",
    "acc_val = list(zip(*acc_val))\n",
    "import matplotlib.ticker as ticker\n",
    "fig, ax1 = plt.subplots()\n",
    "ax2 = ax1.twinx()\n",
    "ax1.plot(np.array(loss_val[0]), np.array(loss_val[1]), \"-r\", label=\"loss\")\n",
    "ax2.plot(np.array(acc_val[0]), np.array(acc_val[1])*100, color=\"skyblue\", label=\"accurate rate\")\n",
    "ax2.yaxis.set_major_formatter(ticker.FormatStrFormatter(\"%.2f%%\"))\n",
    "ax1.set_xlabel(\"epochs\")\n",
    "handles1, labels1 = ax1.get_legend_handles_labels()\n",
    "handles2, labels2 = ax2.get_legend_handles_labels()\n",
    "plt.legend(handles1+handles2, labels1+labels2)\n",
    "plt.title(\"circle dataset training evaluation\")\n",
    "plt.show()"
   ]
  },
  {
   "cell_type": "markdown",
   "metadata": {},
   "source": [
    "## 4.测试集上的表现\n",
    "&emsp;&emsp;to be continued..."
   ]
  },
  {
   "cell_type": "markdown",
   "metadata": {},
   "source": [
    "## 5.添加正则化项\n",
    "&emsp;&emsp;to be continued..."
   ]
  }
 ],
 "metadata": {
  "kernelspec": {
   "display_name": "Python 3-tensorflow",
   "language": "python",
   "name": "tensorflow"
  },
  "language_info": {
   "codemirror_mode": {
    "name": "ipython",
    "version": 3
   },
   "file_extension": ".py",
   "mimetype": "text/x-python",
   "name": "python",
   "nbconvert_exporter": "python",
   "pygments_lexer": "ipython3",
   "version": "3.6.7"
  }
 },
 "nbformat": 4,
 "nbformat_minor": 2
}
